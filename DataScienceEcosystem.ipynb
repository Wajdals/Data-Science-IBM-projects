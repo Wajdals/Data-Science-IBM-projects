{
 "cells": [
  {
   "cell_type": "markdown",
   "id": "49c8e5ef",
   "metadata": {},
   "source": [
    "# Data Science Tools and Ecosystem "
   ]
  },
  {
   "cell_type": "markdown",
   "id": "1c5d8d31",
   "metadata": {},
   "source": [
    "#  in this notebook, Data Science Tools and Ecosystem are summarized"
   ]
  },
  {
   "cell_type": "markdown",
   "id": "78cdc4bf",
   "metadata": {},
   "source": [
    "# Objectives:\n",
    "<ul> <li> List popular languages for Data Science </li>\n",
    "    <li> List commonly used libraries for Data Science </li>\n",
    "    <li> table popular Data Science Tools </li>\n",
    "    <li> examples of evaluating arithmetic expressions in Python </li> </ul>"
   ]
  },
  {
   "cell_type": "markdown",
   "id": "8a11e189",
   "metadata": {},
   "source": [
    "# Some of the popular languages that Data Scientists use are:\n",
    "<ol> <li> Python </li>\n",
    "    <li> R </li >\n",
    "    <li> Julia </li> </ol>"
   ]
  },
  {
   "cell_type": "markdown",
   "id": "356539f7",
   "metadata": {},
   "source": [
    "# Some of the commonly used libraries used by Data Scientists include:\n",
    "1. Numpy \n",
    "2. Pandas \n",
    "3. Scikit-learn"
   ]
  },
  {
   "cell_type": "markdown",
   "id": "53fed501",
   "metadata": {},
   "source": [
    "<table> <thead>\n",
    "    <tr>\n",
    "      <th>Data Science Tools</th>\n",
    "    </tr>\n",
    "  </thead>\n",
    "   <tr>\n",
    "      <td>Jupyter Notebooks</td>\n",
    "    </tr>\n",
    "    <tr>\n",
    "      <td>Apache Zeppelin</td>\n",
    "    </tr>\n",
    "    <tr>\n",
    "      <td>RStudio</td>\n",
    "    </tr> </table> "
   ]
  },
  {
   "cell_type": "markdown",
   "id": "36ec2df1",
   "metadata": {},
   "source": [
    " <h3> Below are a few examples of evaluating arithmetic expressions in Python </h3>\n",
    " "
   ]
  },
  {
   "cell_type": "code",
   "execution_count": 2,
   "id": "3ef7e043",
   "metadata": {},
   "outputs": [
    {
     "data": {
      "text/plain": [
       "17"
      ]
     },
     "execution_count": 2,
     "metadata": {},
     "output_type": "execute_result"
    }
   ],
   "source": [
    "# This a simple arithmetic expression to mutiply then add integers\n",
    "(3*4)+5"
   ]
  },
  {
   "cell_type": "code",
   "execution_count": 3,
   "id": "6d74cf0e",
   "metadata": {},
   "outputs": [
    {
     "data": {
      "text/plain": [
       "3.3333333333333335"
      ]
     },
     "execution_count": 3,
     "metadata": {},
     "output_type": "execute_result"
    }
   ],
   "source": [
    "#  This will convert 200 minutes to hours by diving by 60\n",
    "minute = 200\n",
    "hour = minute / 60\n",
    "hour"
   ]
  },
  {
   "cell_type": "markdown",
   "id": "6f43982f",
   "metadata": {},
   "source": [
    "<h2> Author </h2>"
   ]
  },
  {
   "cell_type": "markdown",
   "id": "658cced5",
   "metadata": {},
   "source": [
    "Wajd Alsulaiman "
   ]
  }
 ],
 "metadata": {
  "kernelspec": {
   "display_name": "Python 3 (ipykernel)",
   "language": "python",
   "name": "python3"
  },
  "language_info": {
   "codemirror_mode": {
    "name": "ipython",
    "version": 3
   },
   "file_extension": ".py",
   "mimetype": "text/x-python",
   "name": "python",
   "nbconvert_exporter": "python",
   "pygments_lexer": "ipython3",
   "version": "3.11.5"
  }
 },
 "nbformat": 4,
 "nbformat_minor": 5
}
